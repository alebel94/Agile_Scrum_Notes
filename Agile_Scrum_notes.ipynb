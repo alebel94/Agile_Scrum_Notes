{
 "cells": [
  {
   "cell_type": "markdown",
   "metadata": {},
   "source": [
    "# Agile and Scrum Notes by Alejandro Beltran"
   ]
  },
  {
   "cell_type": "markdown",
   "metadata": {},
   "source": [
    "# Agile"
   ]
  },
  {
   "cell_type": "markdown",
   "metadata": {},
   "source": [
    "### How does the team work based on what the customer wants\n",
    "##### A mind set, concept, or philosophy for better ways of collaboration, usually with communication, to increase learning among the teams and deliver a product that the stakeholder wants as goals change.\n",
    "##### Agile was created because the traditional waterfall process was a way where the project would move in stages through team. Changes were hard to make because the project would have to move back and work would be lost.\n",
    "##### Waterfall required design, development, testing, and finally implementation which was very time consuming\n",
    "##### Agile allows for changes in the process by getting feedback earlier and avoiding bigger changes later on\n",
    "##### Drawbacks: Hard to implement because it changes mindset of company. All or nothing process. This requires money and time. No documentation can be troublesome for support teams later on. Documentation of features can be implemented later on later on a different project. When the project goes off course the collaborative team must find someone to step up since it is very independent."
   ]
  },
  {
   "cell_type": "markdown",
   "metadata": {},
   "source": [
    "### Four Agile Values\n",
    "1. Individuals and Interactions Over Processes and Tools\n",
    "2. Working Software Over Comprehensive Documentation\n",
    "3. Customer Collaboration Over Contract Negotiation\n",
    "4. Responding to Change Over Following a Plan"
   ]
  },
  {
   "cell_type": "markdown",
   "metadata": {},
   "source": [
    "##### 1. Individuals and Interactions Over Processes and Tools\n",
    "    Value people and interactions. Including in team and stakeholders. Value more face to face over emails etc. In estimation work value of interaction & conversations matters more than actual result of estimate.\n",
    "    \n",
    "  \n",
    " ##### 2. Working Software Over Comprehensive Documentation\n",
    "     Shared understanding comes from more conversations over code documentation. One way is to create small increments of software and give it to customers so they give more feedback.\n",
    "    \n",
    "   \n",
    "##### 3. Customer Collaboration Over Contract Negotiation\n",
    "    In the past contracts are writen baseed on business/ functional requirements. These are hard to predict as the project may change over time. As a development team, the team would have to go based on the contract. Instead, it is better to keep customer wants and needs in mind and not expect requirements from customers from day one. A better way would be to collaborate with them.\n",
    "    \n",
    "    \n",
    "##### 4. Responding to Change Over Following a Plan\n",
    "    Having a plan is very important but prepare for changes. Value being ready to respond on changes if customers have them. The goals will change and we must respond to them as we go."
   ]
  },
  {
   "cell_type": "markdown",
   "metadata": {},
   "source": [
    "### Twelve Agile Principles\n",
    "1. Customer satisfaction through early and continuous software delivery\n",
    "2. Accommodate changing requirements throughout the development process\n",
    "3. Frequent delivery of working software\n",
    "4. Collaboration between the business stakeholders and developers throughout the project\n",
    "5. Support, trust, and motivate the people involved\n",
    "6. Enable face-to-face interactions \n",
    "7. Working software is the primary measure of progress\n",
    "8. Agile processes to support a consistent development pace\n",
    "9. Attention to technical detail and design enhances agility\n",
    "10. Simplicity\n",
    "11. Self-organizing teams encourage great architectures, requirements, and designs\n",
    "12. Regular reflections on how to become more effective"
   ]
  },
  {
   "cell_type": "markdown",
   "metadata": {},
   "source": [
    "##### 1. Customer satisfaction through early and continuous software delivery\n",
    "    Old way: regular design, development, testing, and finally implementation (value end of project). Agile: get value every week/ other week to get feedback to make a better project. \n",
    "##### 2. Accommodate changing requirements throughout the development process even late in development\n",
    "    Project will evolve and change. Not constraint to a contract. Want what is best for the client. If the competitiveness of the customer is not in mind, they will leave us.\n",
    "##### 3. Frequent delivery of working software\n",
    "    Couple of weeks to couple of months. Better more frequently.\n",
    "##### 4. Collaboration between the business stakeholders and developers throughout the project daily\n",
    "    Work together daily. No need of middleman. Encourage stakeholders and development team to communicate. Collaboration not timeline\n",
    "##### 5. Support, trust, and motivate the people involved\n",
    "    Have independent motivated individuals and give them space to do work. Collaborate together the group succeeds as one.\n",
    "##### 6. Most important type of communication is face-to-face interactions \n",
    "    Encourage face to face over documents. Have meetings face to face to communicate what you need.\n",
    "##### 7. Working software is the primary measure of progress\n",
    "    Progress is measured on working software not documentation or analysis or mock up pages\n",
    "##### 8. Agile processes to support a consistent development pace\n",
    "    Sponsors, developers, users should sustain a pace indefinetly. Agile instead everyone working in phases, think about  sustainable pace where everyone is working as the project goes. \n",
    "##### 9. Attention to technical detail and design enhances agility\n",
    "    Think about quality and technical excelence to increase value and build to it later on\n",
    "##### 10. Simplicity \n",
    "    More features does not make a software better. Think about the outcome by building less but with more value\n",
    "##### 11. Self-organizing teams encourage great architectures, requirements, and designs\n",
    "    Depending on what you are working on there is a team with someone in that skillset. Have a self organizing team that can answer and help out instead of asking someone in another team. Potentially joining the team and talking to team members is better than someone else in another team.\n",
    "##### 12. Regular reflections on how to become more effective\n",
    "    Getting together and reflect on what went right and wrong and think about how to improve. This should happen every few weeks not at the end of a project."
   ]
  },
  {
   "cell_type": "markdown",
   "metadata": {},
   "source": [
    "# Scrum\n",
    "#####  Scrum is an agile methodology/ framework\n",
    "##### Values Inspection, Adaption, and Transparancy\n",
    "Inspect and adapt: pick up our problem, start working on the problem, as you work on it you can look back and inspect and adapt according to what you learn from the process of working itself.\n",
    "Transparency: all the roles (responsibilities) the meetings, and scrum are designed so that team can be more transparent about how they're working and what they're working on."
   ]
  },
  {
   "cell_type": "markdown",
   "metadata": {},
   "source": [
    "### Scrum values\n",
    "###### 1. Openness\n",
    "    Team members are open to inspecting and adapting and figuring out better ways to solve the problem as a team. So being open to other people's ideas and being open to change in general.\n",
    "###### 2. Committment\n",
    "    Commitment includes doing the work or executing on the sprint goal or the work that team has been assigned. More than that, team members are committed to each other in terms of doing their best and coming up with a solution collaboratively.Commitment also includes team members going to give their best effort to solve a problem versus just focusing on a sprint goal\n",
    "###### 3. Focus\n",
    "    Team members plan on a certain amount of work and they focus on that for a certain period of time and the whole goal of the team is to finish the work that they picked. Focused also means trtying to solve a problem that they have decided as a team versus thinking about every detail and trying to build everything.\n",
    "###### 4. Courage\n",
    "    Team members show up with courage when working on tough problems and are not afraid to come up with bold ideas. Scrum encourages team members to do their best despite not being perfect and despite of change being hard.\n",
    "###### 5. Respect\n",
    "    As we work as a team, share our success, and finish together we will be professional and will respect the team members culture, their background, their ways of working and we will also respect their opinions."
   ]
  },
  {
   "cell_type": "markdown",
   "metadata": {},
   "source": [
    "### Sprints\n",
    "Sprint: the time selected by the team anywhere between one to four weeks, where they plan the work, get the work ready, develop, test, and get it production ready so you can give software to customer.\n",
    "<br> \n",
    "The product after the sprint is called a product increment.\n",
    "<br>\n",
    "The time frame of these sprints is called a time box\n",
    "<br> \n",
    "The sprint comprises of all the scrum ceremonies. These include the daily standup, the sprint planning, and the sprint review and retrospective.\n",
    "<br>\n",
    "All the meetings happen within the sprint, where you plan the work, do a daily checking, review the work at the end of the timebox or the time that you selected, and can also do a retrospective on how the team is doing in terms  of working with each other.\n",
    "<br>\n",
    "Scrum highly recomends a self-organizing team and cross-functional team. In other words, if a team is going to take on some work the team members should have the skill sets to be able to develop the solution for their work. If there is a conflict or something that the team doesn't know what to do, scrum recommends that team discuss among each other and come to a conclusion as a team."
   ]
  },
  {
   "cell_type": "markdown",
   "metadata": {},
   "source": [
    "### Scrum Roles\n",
    "\n",
    "##### 1. Product Owner (Similar to business analyst)\n",
    "    talk to the stakeholders or the users and understand the product vision from them, understand their challenges and what kind of problem they are trying to solve. When the product comes back to the team , the product owner helps the team understand what are some of the needs and the challenges that the team will be solving with the product that they are developing. They prioritize the user story in a way where the development team knows exactly which ones to work on.\n",
    "##### 2. Scrum Master\n",
    "    remove the impediments or the roadblocks in that iteration or time box where the team is very focused on working on those work items. The Scrum Master also coaches teams on the scrum values to live the scrum values and facilitate the various scrum meetings or ceremonies.\n",
    "##### 3. Development team\n",
    "    Any role except Product Owner or Scrum Master. The team members are self-organizing, meaning that they don't need a manager to organize their work. They will actually talk among each other and figure out which I am to work on next. They talk to the product owner in almost a daily basis just to understand the priority and sequencing of the work. And there are also cross-functional, they have all the skill sets that are required to develop that product or the feature for that team."
   ]
  },
  {
   "cell_type": "markdown",
   "metadata": {},
   "source": [
    "### Scrum Ceremonies and Events\n",
    "##### 1. Daily stand up meeting \n",
    "    15 min meeting where each team member answers what they did yesterday to achieve sprint goal, what are you doing today to achieve sprint goal, do you have impediments that may hinder sprint goal. Each leave clear plan. Stakeholder and Poject manager can attend meeting but not speak, Scrum master must make sure team is protected from externall distractions.\n",
    "##### 2. Sprint planning meeting\n",
    "    One 2-hour meeting per two-week sprint time box. The team plans for developing and then testing and making sure the product is ready to be shipped to the customer. Product owner is much more important in this meeting, he comes in and he understands the vision of the product. The product manager mentions what the priorities are and the team agrees what they can deliver and what they may not be so sure to deliver. Team and project manager have a discussion on priorities and scope for the next sprint. A sprint backlog comes out of the sprint planning meeting. The sprint backlog is the amount of work that the team member agreed to work on that sprint. \n",
    "##### 3. Sprint review meeting\n",
    "    Held at the last day of the sprint, informal meeting not product status meeting. Scrum master facilitates, product owner and key stakeholders are invited. The key questions here are: What are some things that really got done? and what are some things didn't get done? They're also looking at the overall Product Backlog. Also see if anything else change in the product backlog throughout the sprint? that change to different priorities for the next sprint. Even without fully functional product is good to have for feedback.\n",
    "##### 4. Sprint retrospective\n",
    "    Retrospective on what went well and what didn't on that last sprint. Retrospective meaning what did the team do well, what didn't go well in this last sprint and what should be improved on. Two hours for a 4 week sprint. Good things, conflicts, obstacles, mediated by scrum master. Meeting is not to blame, it is to have a safe space and to learn so things do not happen again.\n",
    "##### 5. Backlog grooming\n",
    "    Once sprint is going, look at next sprint. Business analyst must look ahead while working on current sprint."
   ]
  },
  {
   "cell_type": "markdown",
   "metadata": {},
   "source": [
    "### Scrum Teams and Artifacts\n",
    "##### 1. User stories\n",
    "    User story is a simple description of a product feature that is written from end users point of view. Whenever we are writing this product increment, we are thinking about the customer. Think about who is the user that will be using product, think about what will empower the user or what is their goal, last think about why is the product needed or what kind of value will the product bring to the user. It is not a document, it is a conversation/ description of needs of customer. \n",
    "##### 2. Product and Sprint Backlog\n",
    "    \n",
    "##### 3. Working agreements\n",
    "    \n",
    "##### 4. Definition of Ready vs Done\n",
    "    \n",
    "##### 5. Product Increment\n",
    "    "
   ]
  }
 ],
 "metadata": {
  "kernelspec": {
   "display_name": "Python 3",
   "language": "python",
   "name": "python3"
  },
  "language_info": {
   "codemirror_mode": {
    "name": "ipython",
    "version": 3
   },
   "file_extension": ".py",
   "mimetype": "text/x-python",
   "name": "python",
   "nbconvert_exporter": "python",
   "pygments_lexer": "ipython3",
   "version": "3.8.5"
  }
 },
 "nbformat": 4,
 "nbformat_minor": 4
}
